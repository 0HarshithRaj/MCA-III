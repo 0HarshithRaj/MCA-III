{
 "cells": [
  {
   "cell_type": "code",
   "execution_count": 2,
   "id": "43a48e5d",
   "metadata": {},
   "outputs": [
    {
     "data": {
      "application/javascript": [
       "IPython.notebook.set_autosave_interval(5000)"
      ]
     },
     "metadata": {},
     "output_type": "display_data"
    },
    {
     "name": "stdout",
     "output_type": "stream",
     "text": [
      "Autosaving every 5 seconds\n"
     ]
    }
   ],
   "source": [
    "%autosave 5"
   ]
  },
  {
   "cell_type": "code",
   "execution_count": 12,
   "id": "89e549ea",
   "metadata": {},
   "outputs": [
    {
     "name": "stdout",
     "output_type": "stream",
     "text": [
      "Defaulting to user installation because normal site-packages is not writeable\n",
      "Requirement already satisfied: matplotlib in /usr/local/lib/python3.8/dist-packages (3.4.3)\n",
      "Requirement already satisfied: python-dateutil>=2.7 in /home/student/.local/lib/python3.8/site-packages (from matplotlib) (2.9.0.post0)\n",
      "Requirement already satisfied: pyparsing>=2.2.1 in /usr/lib/python3/dist-packages (from matplotlib) (2.4.6)\n",
      "Requirement already satisfied: kiwisolver>=1.0.1 in /usr/lib/python3/dist-packages (from matplotlib) (1.0.1)\n",
      "Requirement already satisfied: cycler>=0.10 in /usr/lib/python3/dist-packages (from matplotlib) (0.10.0)\n",
      "Requirement already satisfied: pillow>=6.2.0 in /usr/lib/python3/dist-packages (from matplotlib) (7.0.0)\n",
      "Requirement already satisfied: numpy>=1.16 in /home/student/.local/lib/python3.8/site-packages (from matplotlib) (1.24.4)\n",
      "Requirement already satisfied: six>=1.5 in /usr/lib/python3/dist-packages (from python-dateutil>=2.7->matplotlib) (1.14.0)\n",
      "\u001b[33mWARNING: You are using pip version 21.2.4; however, version 24.2 is available.\n",
      "You should consider upgrading via the '/usr/bin/python3 -m pip install --upgrade pip' command.\u001b[0m\n",
      "Defaulting to user installation because normal site-packages is not writeable\n",
      "Collecting pandas==1.5.3\n",
      "  Downloading pandas-1.5.3-cp38-cp38-manylinux_2_17_x86_64.manylinux2014_x86_64.whl (12.2 MB)\n",
      "\u001b[K     |████████████████████████████████| 12.2 MB 88 kB/s  eta 0:00:01\n",
      "\u001b[?25hRequirement already satisfied: numpy>=1.20.3 in /home/student/.local/lib/python3.8/site-packages (from pandas==1.5.3) (1.24.4)\n",
      "Requirement already satisfied: pytz>=2020.1 in /home/student/.local/lib/python3.8/site-packages (from pandas==1.5.3) (2024.1)\n",
      "Requirement already satisfied: python-dateutil>=2.8.1 in /home/student/.local/lib/python3.8/site-packages (from pandas==1.5.3) (2.9.0.post0)\n",
      "Requirement already satisfied: six>=1.5 in /usr/lib/python3/dist-packages (from python-dateutil>=2.8.1->pandas==1.5.3) (1.14.0)\n",
      "Installing collected packages: pandas\n",
      "  Attempting uninstall: pandas\n",
      "    Found existing installation: pandas 2.0.3\n",
      "    Uninstalling pandas-2.0.3:\n",
      "      Successfully uninstalled pandas-2.0.3\n",
      "Successfully installed pandas-1.5.3\n",
      "\u001b[33mWARNING: You are using pip version 21.2.4; however, version 24.2 is available.\n",
      "You should consider upgrading via the '/usr/bin/python3 -m pip install --upgrade pip' command.\u001b[0m\n"
     ]
    }
   ],
   "source": [
    "!pip install matplotlib\n",
    "!pip install pandas==1.5.3"
   ]
  },
  {
   "cell_type": "code",
   "execution_count": 55,
   "id": "43bacaf2",
   "metadata": {},
   "outputs": [
    {
     "name": "stdout",
     "output_type": "stream",
     "text": [
      "Defaulting to user installation because normal site-packages is not writeable\n",
      "Requirement already satisfied: wheel in /usr/lib/python3/dist-packages (0.34.2)\n",
      "\u001b[33mWARNING: You are using pip version 21.2.4; however, version 24.2 is available.\n",
      "You should consider upgrading via the '/usr/bin/python3 -m pip install --upgrade pip' command.\u001b[0m\n",
      "Defaulting to user installation because normal site-packages is not writeable\n",
      "Requirement already satisfied: pandas in /home/student/.local/lib/python3.8/site-packages (1.5.3)\n",
      "Requirement already satisfied: pytz>=2020.1 in /home/student/.local/lib/python3.8/site-packages (from pandas) (2024.1)\n",
      "Requirement already satisfied: python-dateutil>=2.8.1 in /home/student/.local/lib/python3.8/site-packages (from pandas) (2.9.0.post0)\n",
      "Requirement already satisfied: numpy>=1.20.3 in /home/student/.local/lib/python3.8/site-packages (from pandas) (1.24.4)\n",
      "Requirement already satisfied: six>=1.5 in /usr/lib/python3/dist-packages (from python-dateutil>=2.8.1->pandas) (1.14.0)\n",
      "\u001b[33mWARNING: You are using pip version 21.2.4; however, version 24.2 is available.\n",
      "You should consider upgrading via the '/usr/bin/python3 -m pip install --upgrade pip' command.\u001b[0m\n"
     ]
    }
   ],
   "source": [
    "!pip install wheel\n",
    "!pip install pandas"
   ]
  },
  {
   "cell_type": "code",
   "execution_count": 1,
   "id": "8d2cfa2f",
   "metadata": {},
   "outputs": [],
   "source": [
    "import matplotlib.pyplot as plt\n",
    "import numpy as np\n",
    "import pandas as pd"
   ]
  },
  {
   "cell_type": "markdown",
   "id": "b912367b",
   "metadata": {},
   "source": [
    "## 1. "
   ]
  },
  {
   "cell_type": "code",
   "execution_count": 17,
   "id": "22bb9953",
   "metadata": {},
   "outputs": [
    {
     "data": {
      "image/png": "[encoded data removed]",
      "text/plain": [
       "<Figure size 432x288 with 1 Axes>"
      ]
     },
     "metadata": {
      "needs_background": "light"
     },
     "output_type": "display_data"
    }
   ],
   "source": [
    "x_axis = np.array([0,5])\n",
    "y_axis = np.array([10,100])\n",
    "\n",
    "plt.plot(x_axis, y_axis)\n",
    "plt.title(\"Linear\")\n",
    "plt.show();"
   ]
  },
  {
   "cell_type": "markdown",
   "id": "630bbe0c",
   "metadata": {},
   "source": [
    "## 2."
   ]
  },
  {
   "cell_type": "code",
   "execution_count": 51,
   "id": "6d08eea7",
   "metadata": {},
   "outputs": [
    {
     "data": {
      "image/png": "[encoded data removed]",
      "text/plain": [
       "<Figure size 432x288 with 1 Axes>"
      ]
     },
     "metadata": {
      "needs_background": "light"
     },
     "output_type": "display_data"
    }
   ],
   "source": [
    "import os\n",
    "x_values = []\n",
    "y_values = []\n",
    "with open('input.txt', 'r') as file:\n",
    "    for line in file:\n",
    "        x, y = map(int, line.split())\n",
    "        x_values.append(x)\n",
    "        y_values.append(y)\n",
    "plt.plot(x_values,y_values)\n",
    "plt.xlabel(\"X axis\")\n",
    "plt.ylabel(\"Y label\")\n",
    "plt.title(\"Question 2\")\n",
    "plt.show();"
   ]
  },
  {
   "cell_type": "markdown",
   "id": "b33c33a8",
   "metadata": {},
   "source": [
    "## 3."
   ]
  },
  {
   "cell_type": "code",
   "execution_count": 2,
   "id": "e316c6a1",
   "metadata": {},
   "outputs": [],
   "source": [
    "cols = [\"Date\",\"Open\",\"High\",\"Low\",\"Close\"]\n",
    "df = pd.read_csv('csv3.csv', names=cols, header=None)"
   ]
  },
  {
   "cell_type": "code",
   "execution_count": 3,
   "id": "5fa886d0",
   "metadata": {},
   "outputs": [
    {
     "data": {
      "text/html": [
       "<div>\n",
       "<style scoped>\n",
       "    .dataframe tbody tr th:only-of-type {\n",
       "        vertical-align: middle;\n",
       "    }\n",
       "\n",
       "    .dataframe tbody tr th {\n",
       "        vertical-align: top;\n",
       "    }\n",
       "\n",
       "    .dataframe thead th {\n",
       "        text-align: right;\n",
       "    }\n",
       "</style>\n",
       "<table border=\"1\" class=\"dataframe\">\n",
       "  <thead>\n",
       "    <tr style=\"text-align: right;\">\n",
       "      <th></th>\n",
       "      <th>Date</th>\n",
       "      <th>Open</th>\n",
       "      <th>High</th>\n",
       "      <th>Low</th>\n",
       "      <th>Close</th>\n",
       "    </tr>\n",
       "  </thead>\n",
       "  <tbody>\n",
       "    <tr>\n",
       "      <th>0</th>\n",
       "      <td>10-03-16</td>\n",
       "      <td>774.250000</td>\n",
       "      <td>776.065002</td>\n",
       "      <td>769.500000</td>\n",
       "      <td>772.559998</td>\n",
       "    </tr>\n",
       "    <tr>\n",
       "      <th>1</th>\n",
       "      <td>10-04-16</td>\n",
       "      <td>776.030029</td>\n",
       "      <td>778.710022</td>\n",
       "      <td>772.890015</td>\n",
       "      <td>776.429993</td>\n",
       "    </tr>\n",
       "    <tr>\n",
       "      <th>2</th>\n",
       "      <td>10-05-16</td>\n",
       "      <td>779.309998</td>\n",
       "      <td>782.070007</td>\n",
       "      <td>775.650024</td>\n",
       "      <td>776.469971</td>\n",
       "    </tr>\n",
       "    <tr>\n",
       "      <th>3</th>\n",
       "      <td>10-06-16</td>\n",
       "      <td>779.000000</td>\n",
       "      <td>780.479980</td>\n",
       "      <td>775.539978</td>\n",
       "      <td>776.859985</td>\n",
       "    </tr>\n",
       "    <tr>\n",
       "      <th>4</th>\n",
       "      <td>10-07-16</td>\n",
       "      <td>779.659973</td>\n",
       "      <td>779.659973</td>\n",
       "      <td>770.750000</td>\n",
       "      <td>775.080017</td>\n",
       "    </tr>\n",
       "  </tbody>\n",
       "</table>\n",
       "</div>"
      ],
      "text/plain": [
       "       Date        Open        High         Low       Close\n",
       "0  10-03-16  774.250000  776.065002  769.500000  772.559998\n",
       "1  10-04-16  776.030029  778.710022  772.890015  776.429993\n",
       "2  10-05-16  779.309998  782.070007  775.650024  776.469971\n",
       "3  10-06-16  779.000000  780.479980  775.539978  776.859985\n",
       "4  10-07-16  779.659973  779.659973  770.750000  775.080017"
      ]
     },
     "execution_count": 3,
     "metadata": {},
     "output_type": "execute_result"
    }
   ],
   "source": [
    "df"
   ]
  },
  {
   "cell_type": "code",
   "execution_count": 13,
   "id": "ff6c8a17",
   "metadata": {},
   "outputs": [
    {
     "data": {
      "image/png": "[encoded data removed]",
      "text/plain": [
       "<Figure size 720x432 with 1 Axes>"
      ]
     },
     "metadata": {
      "needs_background": "light"
     },
     "output_type": "display_data"
    }
   ],
   "source": [
    "df['Date'] = pd.to_datetime(df['Date'])\n",
    "plt.figure(figsize=(10, 6))\n",
    "plt.plot(df['Date'].to_numpy(), df['Open'].to_numpy(), label='Open')\n",
    "plt.plot(df['Date'].to_numpy(), df['High'].to_numpy(), label='High')\n",
    "plt.plot(df['Date'].to_numpy(), df['Low'].to_numpy(), label='Low')\n",
    "plt.plot(df['Date'].to_numpy(), df['Close'].to_numpy(), label='Close')\n",
    "plt.xlabel('Date')\n",
    "plt.ylabel('Price (USD)')\n",
    "plt.title('Alphabet Inc. Financial Data (Oct 3, 2016 - Oct 7, 2016)')\n",
    "plt.legend()\n",
    "plt.grid(True)\n",
    "plt.xticks(rotation=45)\n",
    "plt.tight_layout()\n",
    "plt.show()"
   ]
  },
  {
   "cell_type": "markdown",
   "id": "44342e63",
   "metadata": {},
   "source": [
    "## 4."
   ]
  },
  {
   "cell_type": "code",
   "execution_count": 14,
   "id": "83503229",
   "metadata": {},
   "outputs": [
    {
     "data": {
      "image/png": "[encoded data removed]",
      "text/plain": [
       "<Figure size 720x432 with 1 Axes>"
      ]
     },
     "metadata": {
      "needs_background": "light"
     },
     "output_type": "display_data"
    }
   ],
   "source": [
    "x = [1, 2, 3, 4, 5]\n",
    "y1 = [2, 3, 5, 7, 11]\n",
    "y2 = [1, 4, 6, 8, 10]\n",
    "y3 = [3, 6, 9, 12, 15]\n",
    "plt.figure(figsize=(10, 6))\n",
    "\n",
    "plt.plot(x, y1, label='Line 1', marker='o', color='blue')\n",
    "plt.plot(x, y2, label='Line 2', marker='s', color='green')\n",
    "plt.plot(x, y3, label='Line 3', marker='^', color='red')   \n",
    "\n",
    "plt.xlabel('X axis')\n",
    "plt.ylabel('Y axis')\n",
    "plt.title('Multiple Lines Plot Example')\n",
    "plt.legend()\n",
    "plt.grid(True)\n",
    "plt.show()"
   ]
  },
  {
   "cell_type": "markdown",
   "id": "58d87ab3",
   "metadata": {},
   "source": [
    "## 5."
   ]
  },
  {
   "cell_type": "code",
   "execution_count": 16,
   "id": "eb791ed2",
   "metadata": {},
   "outputs": [
    {
     "name": "stdout",
     "output_type": "stream",
     "text": [
      "Enter values for Series (comma seperated): 1,2,3,4,4\n",
      "0    1\n",
      "1    2\n",
      "2    3\n",
      "3    4\n",
      "4    4\n",
      "dtype: object\n"
     ]
    }
   ],
   "source": [
    "data = input(\"Enter values for Series (comma seperated): \")\n",
    "data_list = data.split(',')\n",
    "data_series = pd.Series(data_list)\n",
    "print(data_series)"
   ]
  },
  {
   "cell_type": "markdown",
   "id": "d95d106e",
   "metadata": {},
   "source": [
    "## 6. "
   ]
  },
  {
   "cell_type": "code",
   "execution_count": 19,
   "id": "488aab8c",
   "metadata": {},
   "outputs": [
    {
     "name": "stdout",
     "output_type": "stream",
     "text": [
      "Data:\n",
      " 0    10\n",
      "1    20\n",
      "2    30\n",
      "3    40\n",
      "4    50\n",
      "dtype: int64\n",
      "List: [10, 20, 30, 40, 50]\n",
      "Type of the list: <class 'list'>\n"
     ]
    }
   ],
   "source": [
    "import pandas as pd\n",
    "\n",
    "data = pd.Series([10, 20, 30, 40, 50])\n",
    "data_list = data.tolist()\n",
    "\n",
    "print(\"Data:\\n\", data)\n",
    "print(\"List:\", data_list)\n",
    "print(\"Type of the list:\", type(data_list))\n"
   ]
  },
  {
   "cell_type": "markdown",
   "id": "ccf8a4b1",
   "metadata": {},
   "source": [
    "## 7."
   ]
  },
  {
   "cell_type": "code",
   "execution_count": 20,
   "id": "0f24037a",
   "metadata": {},
   "outputs": [
    {
     "name": "stdout",
     "output_type": "stream",
     "text": [
      "First Series (separated by commas): 5,6,7,8\n",
      "Second Series (separated by commas): 1,2,3,4\n",
      "\n",
      "Results:\n",
      "First Series:\n",
      "0    5\n",
      "1    6\n",
      "2    7\n",
      "3    8\n",
      "dtype: int64\n",
      "Second Series:\n",
      "0    1\n",
      "1    2\n",
      "2    3\n",
      "3    4\n",
      "dtype: int64\n",
      "\n",
      "Addition:\n",
      "0     6\n",
      "1     8\n",
      "2    10\n",
      "3    12\n",
      "dtype: int64\n",
      "Subtraction:\n",
      "0    4\n",
      "1    4\n",
      "2    4\n",
      "3    4\n",
      "dtype: int64\n",
      "Multiplication:\n",
      "0     5\n",
      "1    12\n",
      "2    21\n",
      "3    32\n",
      "dtype: int64\n",
      "Division:\n",
      "0    5.000000\n",
      "1    3.000000\n",
      "2    2.333333\n",
      "3    2.000000\n",
      "dtype: float64\n"
     ]
    }
   ],
   "source": [
    "data1 = input(\"First Series (separated by commas): \")\n",
    "data1 = list(map(int, data1.split(',')))\n",
    "data2 = input(\"Second Series (separated by commas): \")\n",
    "data2 = list(map(int, data2.split(',')))\n",
    "\n",
    "series1 = pd.Series(data1)\n",
    "series2 = pd.Series(data2)\n",
    "\n",
    "addition = series1 + series2\n",
    "subtraction = series1 - series2\n",
    "multiplication = series1 * series2\n",
    "division = series1 / series2\n",
    "\n",
    "print(\"\\nResults:\")\n",
    "print(\"First Series:\")\n",
    "print(series1)\n",
    "print(\"Second Series:\")\n",
    "print(series2)\n",
    "print(\"\\nAddition:\")\n",
    "print(addition)\n",
    "print(\"Subtraction:\")\n",
    "print(subtraction)\n",
    "print(\"Multiplication:\")\n",
    "print(multiplication)\n",
    "print(\"Division:\")\n",
    "print(division)\n"
   ]
  },
  {
   "cell_type": "markdown",
   "id": "2ab6b299",
   "metadata": {},
   "source": [
    "## 8."
   ]
  },
  {
   "cell_type": "code",
   "execution_count": 22,
   "id": "b34c33dd",
   "metadata": {},
   "outputs": [
    {
     "name": "stdout",
     "output_type": "stream",
     "text": [
      "First Series (separated by commas): 1,2,5,3\n",
      "Second Series (separated by commas): 2,3,6,7\n",
      "\n",
      "Results:\n",
      "First Series:\n",
      "0    1\n",
      "1    2\n",
      "2    5\n",
      "3    3\n",
      "dtype: int64\n",
      "Second Series:\n",
      "0    2\n",
      "1    3\n",
      "2    6\n",
      "3    7\n",
      "dtype: int64\n",
      "\n",
      "Equal (==):\n",
      "0    False\n",
      "1    False\n",
      "2    False\n",
      "3    False\n",
      "dtype: bool\n",
      "Greater than (>):\n",
      "0    False\n",
      "1    False\n",
      "2    False\n",
      "3    False\n",
      "dtype: bool\n",
      "Less than (<):\n",
      "0    True\n",
      "1    True\n",
      "2    True\n",
      "3    True\n",
      "dtype: bool\n"
     ]
    }
   ],
   "source": [
    "data1 = input(\"First Series (separated by commas): \")\n",
    "data1 = list(map(int, data1.split(',')))\n",
    "data2 = input(\"Second Series (separated by commas): \")\n",
    "data2 = list(map(int, data2.split(',')))\n",
    "\n",
    "series1 = pd.Series(data1)\n",
    "series2 = pd.Series(data2)\n",
    "\n",
    "equal = series1 == series2\n",
    "greater_than = series1 > series2\n",
    "less_than = series1 < series2\n",
    "\n",
    "print(\"\\nResults:\")\n",
    "print(\"First Series:\")\n",
    "print(series1)\n",
    "print(\"Second Series:\")\n",
    "print(series2)\n",
    "print(\"\\nEqual (==):\")\n",
    "print(equal)\n",
    "print(\"Greater than (>):\")\n",
    "print(greater_than)\n",
    "print(\"Less than (<):\")\n",
    "print(less_than)"
   ]
  },
  {
   "cell_type": "code",
   "execution_count": null,
   "id": "1a1c7280",
   "metadata": {},
   "outputs": [],
   "source": []
  }
 ],
 "metadata": {
  "kernelspec": {
   "display_name": "Python 3 (ipykernel)",
   "language": "python",
   "name": "python3"
  },
  "language_info": {
   "codemirror_mode": {
    "name": "ipython",
    "version": 3
   },
   "file_extension": ".py",
   "mimetype": "text/x-python",
   "name": "python",
   "nbconvert_exporter": "python",
   "pygments_lexer": "ipython3",
   "version": "3.8.10"
  }
 },
 "nbformat": 4,
 "nbformat_minor": 5
}
