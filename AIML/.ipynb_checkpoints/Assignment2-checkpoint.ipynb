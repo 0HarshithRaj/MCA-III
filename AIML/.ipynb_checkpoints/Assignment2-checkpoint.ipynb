{
 "cells": [
  {
   "cell_type": "markdown",
   "id": "a6354fdd",
   "metadata": {},
   "source": [
    "## 1. "
   ]
  },
  {
   "cell_type": "code",
   "execution_count": 2,
   "id": "67060453",
   "metadata": {},
   "outputs": [
    {
     "data": {
      "application/javascript": [
       "IPython.notebook.set_autosave_interval(5000)"
      ]
     },
     "metadata": {},
     "output_type": "display_data"
    },
    {
     "name": "stdout",
     "output_type": "stream",
     "text": [
      "Autosaving every 5 seconds\n"
     ]
    }
   ],
   "source": [
    "%autosave 5"
   ]
  },
  {
   "cell_type": "code",
   "execution_count": null,
   "id": "49c65e89",
   "metadata": {},
   "outputs": [],
   "source": [
    "def gcd(a, b):\n",
    "    while b != 0:\n",
    "        a, b = b, a % b\n",
    "    return a\n",
    "\n",
    "def lcm(a, b):\n",
    "    return abs(a * b) // gcd(a, b)\n",
    "\n",
    "def main():\n",
    "    try:\n",
    "        num1 = int(input(\"Enter the first number: \"))\n",
    "        num2 = int(input(\"Enter the second number: \"))\n",
    "\n",
    "        result = lcm(num1, num2)\n",
    "\n",
    "        print(f\"The Least Common Multiple of {num1} and {num2} is {result}\")\n",
    "\n",
    "    except ValueError:\n",
    "        print(\"Invalid input. Please enter integer values.\")\n",
    "\n",
    "if __name__ == \"__main__\":\n",
    "    main()\n"
   ]
  },
  {
   "cell_type": "code",
   "execution_count": null,
   "id": "07ed2de0",
   "metadata": {},
   "outputs": [
    {
     "name": "stdout",
     "output_type": "stream",
     "text": [
      "Simple Calculator\n",
      "Select operation:\n",
      "1. Add\n",
      "2. Subtract\n",
      "3. Multiply\n",
      "4. Divide\n"
     ]
    }
   ],
   "source": [
    "#program2 calculator\n",
    "def add(x, y):\n",
    "    return x + y\n",
    "\n",
    "def subtract(x, y):\n",
    "    return x - y\n",
    "\n",
    "def multiply(x, y):\n",
    "    return x * y\n",
    "\n",
    "def divide(x, y):\n",
    "    if y == 0:\n",
    "        return \"Error! Division by zero.\"\n",
    "    return x / y\n",
    "\n",
    "def main():\n",
    "    print(\"Simple Calculator\")\n",
    "    print(\"Select operation:\")\n",
    "    print(\"1. Add\")\n",
    "    print(\"2. Subtract\")\n",
    "    print(\"3. Multiply\")\n",
    "    print(\"4. Divide\")\n",
    "\n",
    "    while True:\n",
    "        choice = input(\"Enter choice (1/2/3/4): \")\n",
    "        if choice in ['1', '2', '3', '4']:\n",
    "            try:\n",
    "                num1 = float(input(\"Enter first number: \"))\n",
    "                num2 = float(input(\"Enter second number: \"))\n",
    "\n",
    "                if choice == '1':\n",
    "                    print(f\"{num1} + {num2} = {add(num1, num2)}\")\n",
    "\n",
    "                elif choice == '2':\n",
    "                    print(f\"{num1} - {num2} = {subtract(num1, num2)}\")\n",
    "\n",
    "                elif choice == '3':\n",
    "                    print(f\"{num1} * {num2} = {multiply(num1, num2)}\")\n",
    "\n",
    "                elif choice == '4':\n",
    "                    print(f\"{num1} / {num2} = {divide(num1, num2)}\")\n",
    "\n",
    "            except ValueError:\n",
    "                print(\"Invalid input. Please enter numerical values.\")\n",
    "\n",
    "        else:\n",
    "            print(\"Invalid input. Please enter a number between 1 and 4.\")\n",
    "\n",
    "        nextcal = input(\"Do you want to perform another calculation? (yes/no): \")\n",
    "        if nextcal.lower() != 'yes':\n",
    "            break\n",
    "\n",
    "if __name__ == \"__main__\":\n",
    "    main()\n"
   ]
  },
  {
   "cell_type": "code",
   "execution_count": 3,
   "id": "6a41634b",
   "metadata": {},
   "outputs": [
    {
     "name": "stdout",
     "output_type": "stream",
     "text": [
      "[1, 2, 3, 4, 5, 8, 9, 10]\n"
     ]
    }
   ],
   "source": [
    "#program3 list_merging\n",
    "list1 = [1,2,3,4,5]\n",
    "list2 = [8,9,10]\n",
    "list3 = list1 + list2\n",
    "print(list3)"
   ]
  },
  {
   "cell_type": "code",
   "execution_count": 2,
   "id": "3752053e",
   "metadata": {},
   "outputs": [
    {
     "name": "stdout",
     "output_type": "stream",
     "text": [
      "Original List: [1, 2, 3, 4, 5]\n",
      "Modified List: [0, 2, 3, 4, 5, 6]\n",
      "\n",
      "Original Tuple: (1, 2, 3, 4, 5)\n",
      "Error when modifying tuple: 'tuple' object does not support item assignment\n",
      "New Tuple (after concatenation): (1, 2, 3, 4, 5, 6)\n",
      "\n",
      "Dictionary with Tuple Key: {(1, 2, 3, 4, 5): 'Tuple Key'}\n"
     ]
    }
   ],
   "source": [
    "#program4 list vs tuple\n",
    "my_list = [1, 2, 3, 4, 5]\n",
    "print(\"Original List:\", my_list)\n",
    "\n",
    "my_list.append(6)\n",
    "my_list[0] = 0\n",
    "print(\"Modified List:\", my_list)\n",
    "\n",
    "my_tuple = (1, 2, 3, 4, 5)\n",
    "print(\"\\nOriginal Tuple:\", my_tuple)\n",
    "\n",
    "try:\n",
    "    my_tuple[0] = 0  \n",
    "except TypeError as e:\n",
    "    print(\"Error when modifying tuple:\", e)\n",
    "\n",
    "my_new_tuple = my_tuple + (6,)\n",
    "print(\"New Tuple (after concatenation):\", my_new_tuple)\n",
    "\n",
    "my_dict = {}\n",
    "my_dict[my_tuple] = \"Tuple Key\"\n",
    "print(\"\\nDictionary with Tuple Key:\", my_dict)\n",
    "\n"
   ]
  },
  {
   "cell_type": "code",
   "execution_count": 6,
   "id": "9f4a1a88",
   "metadata": {},
   "outputs": [
    {
     "name": "stdout",
     "output_type": "stream",
     "text": [
      "Length of the tuple: 5\n",
      "Maximum value in the tuple: 20\n",
      "Minimum value in the tuple: 5\n",
      "Sum of the elements in the tuple: 58\n",
      "Sorted tuple: [5, 8, 10, 15, 20]\n",
      "Reverse Sorted tuple: [20, 15, 10, 8, 5]\n",
      "Original tuple : (10, 5, 8, 20, 15)\n"
     ]
    }
   ],
   "source": [
    "#program 6 tuple ops\n",
    "my_tuple = (10, 5, 8, 20, 15)\n",
    "\n",
    "length = len(my_tuple)\n",
    "print(\"Length of the tuple:\", length)\n",
    "\n",
    "maximum = max(my_tuple)\n",
    "print(\"Maximum value in the tuple:\", maximum)\n",
    "\n",
    "minimum = min(my_tuple)\n",
    "print(\"Minimum value in the tuple:\", minimum)\n",
    "\n",
    "total_sum = sum(my_tuple)\n",
    "print(\"Sum of the elements in the tuple:\", total_sum)\n",
    "\n",
    "sorted_tuple = sorted(my_tuple)\n",
    "print(\"Sorted tuple:\", sorted_tuple)\n",
    "\n",
    "rev_sort = sorted(my_tuple, reverse = True)\n",
    "print(\"Reverse Sorted tuple:\", rev_sort)\n",
    "\n",
    "\n",
    "\n",
    "print(\"Original tuple :\", my_tuple)\n",
    "\n",
    "\n",
    "    \n"
   ]
  },
  {
   "cell_type": "code",
   "execution_count": 14,
   "id": "6364eece",
   "metadata": {},
   "outputs": [
    {
     "name": "stdout",
     "output_type": "stream",
     "text": [
      "Original Tuple: (10, 5, 8, 20, 15)\n",
      "Converted List: [10, 5, 8, 20, 15]\n",
      "Converted String: (10, 5, 8, 20, 15)\n",
      "(10, 5, 8, 20, 15)\n"
     ]
    }
   ],
   "source": [
    "#program7 tuple to list\n",
    "my_tuple = (10, 5, 8, 20, 15)\n",
    "print(\"Original Tuple:\", my_tuple)\n",
    "    \n",
    "my_list = list(my_tuple)\n",
    "print(\"Converted List:\", my_list)\n",
    "\n",
    "my_str = str(my_tuple)\n",
    "print(\"Converted String:\", my_str)\n",
    "\n",
    "tup = eval(my_str)\n",
    "print(tup)\n",
    "\n",
    "\n"
   ]
  },
  {
   "cell_type": "code",
   "execution_count": 10,
   "id": "c53b76f9",
   "metadata": {},
   "outputs": [
    {
     "name": "stdout",
     "output_type": "stream",
     "text": [
      "<class 'str'>\n"
     ]
    }
   ],
   "source": [
    "print(type(my_str))"
   ]
  },
  {
   "cell_type": "code",
   "execution_count": 15,
   "id": "8b68b040",
   "metadata": {},
   "outputs": [
    {
     "name": "stdout",
     "output_type": "stream",
     "text": [
      "Original List: ['a', 'b', 'c', 'd', 'e', 'f', 'g']\n",
      "Element at index 0: a\n",
      "Element at index 3: d\n",
      "Slice from index 2 to 5: ['c', 'd', 'e']\n",
      "Slice from start to index 4: ['a', 'b', 'c', 'd', 'e']\n",
      "Slice from index 3 to end: ['d', 'e', 'f', 'g']\n",
      "Slice with step 2: ['a', 'c', 'e', 'g']\n",
      "Element at index -1 (last element): g\n",
      "Element at index -4 (fourth from last): d\n",
      "Slice from index -5 to -2: ['c', 'd', 'e']\n",
      "Slice from index -4 to end with step 2: ['d', 'f']\n"
     ]
    }
   ],
   "source": [
    "# DProgram8\n",
    "my_list = ['a', 'b', 'c', 'd', 'e', 'f', 'g']\n",
    "print(\"Original List:\", my_list)\n",
    "\n",
    "print(\"Element at index 0:\", my_list[0])  \n",
    "print(\"Element at index 3:\", my_list[3]) \n",
    "\n",
    "# Slicing\n",
    "print(\"Slice from index 2 to 5:\", my_list[2:5]) \n",
    "print(\"Slice from start to index 4:\", my_list[:5]) \n",
    "print(\"Slice from index 3 to end:\", my_list[3:])  \n",
    "print(\"Slice with step 2:\", my_list[::2])  \n",
    "\n",
    "# Negative Indexing\n",
    "print(\"Element at index -1 (last element):\", my_list[-1]) \n",
    "print(\"Element at index -4 (fourth from last):\", my_list[-4]) \n",
    "\n",
    "# Negative Indexing with Slicing\n",
    "print(\"Slice from index -5 to -2:\", my_list[-5:-2])  \n",
    "print(\"Slice from index -4 to end with step 2:\", my_list[-4::2])  "
   ]
  },
  {
   "cell_type": "code",
   "execution_count": 19,
   "id": "f05564b8",
   "metadata": {},
   "outputs": [
    {
     "name": "stdout",
     "output_type": "stream",
     "text": [
      "Original Dictionary: {'name': 'Jeevan', 'age': 22, 'city': 'Mangalore'}\n",
      "Dictionary after clear(): {}\n",
      "Copy of Dictionary: {'name': 'Jeevan', 'age': 22, 'city': 'Mangalore '}\n",
      "Dictionary created using fromkeys(): {'a': 0, 'b': 0, 'c': 0}\n",
      "Value for 'age': 22\n",
      "Value for 'non_existent': Not Found\n",
      "Items in Dictionary: dict_items([('name', 'Jeevan'), ('age', 22), ('city', 'Mangalore ')])\n",
      "Keys in Dictionary: dict_keys(['name', 'age', 'city'])\n",
      "Value removed for 'city': Mangalore \n",
      "Dictionary after pop('city'): {'name': 'Jeevan', 'age': 22}\n",
      "Last item removed: ('age', 22)\n",
      "Dictionary after popitem(): {'name': 'Jeevan'}\n",
      "Value for 'name' (using setdefault): Jeevan\n",
      "Dictionary after setdefault(): {'name': 'Jeevan'}\n",
      "Dictionary after update(): {'name': 'Jeevan', 'age': 22, 'email': 'nnm23mc053@nmamit.in'}\n",
      "Values in Dictionary: dict_values(['Jeevan', 22, 'nnm23mc053@nmamit.in'])\n"
     ]
    }
   ],
   "source": [
    "#program7\n",
    "my_dict = {\n",
    "    'name': 'Jeevan',\n",
    "    'age': 22,\n",
    "    'city': 'Mangalore'\n",
    "}\n",
    "\n",
    "print(\"Original Dictionary:\", my_dict)\n",
    "\n",
    "\n",
    "my_dict.clear()\n",
    "print(\"Dictionary after clear():\", my_dict)\n",
    "\n",
    "\n",
    "my_dict = {\n",
    "    'name': 'Jeevan',\n",
    "    'age': 22,\n",
    "    'city': 'Mangalore '\n",
    "}\n",
    "\n",
    "\n",
    "dict_copy = my_dict.copy()\n",
    "print(\"Copy of Dictionary:\", dict_copy)\n",
    "\n",
    "\n",
    "keys = ('a', 'b', 'c')\n",
    "default_value = 0\n",
    "new_dict = dict.fromkeys(keys, default_value)\n",
    "print(\"Dictionary created using fromkeys():\", new_dict)\n",
    "\n",
    "\n",
    "age = my_dict.get('age')\n",
    "print(\"Value for 'age':\", age)\n",
    "non_existent = my_dict.get('non_existent', 'Not Found')\n",
    "print(\"Value for 'non_existent':\", non_existent)\n",
    "\n",
    "\n",
    "items = my_dict.items()\n",
    "print(\"Items in Dictionary:\", items)\n",
    "\n",
    "\n",
    "keys = my_dict.keys()\n",
    "print(\"Keys in Dictionary:\", keys)\n",
    "\n",
    "\n",
    "city = my_dict.pop('city')\n",
    "print(\"Value removed for 'city':\", city)\n",
    "print(\"Dictionary after pop('city'):\", my_dict)\n",
    "\n",
    "\n",
    "last_item = my_dict.popitem()\n",
    "print(\"Last item removed:\", last_item)\n",
    "print(\"Dictionary after popitem():\", my_dict)\n",
    "\n",
    "\n",
    "name = my_dict.setdefault('name', 'Default Name')\n",
    "print(\"Value for 'name' (using setdefault):\", name)\n",
    "print(\"Dictionary after setdefault():\", my_dict)\n",
    "\n",
    "\n",
    "update_dict = {'age': 22, 'email': 'nnm23mc053@nmamit.in'}\n",
    "my_dict.update(update_dict)\n",
    "print(\"Dictionary after update():\", my_dict)\n",
    "\n",
    "\n",
    "values = my_dict.values()\n",
    "print(\"Values in Dictionary:\", values)\n"
   ]
  },
  {
   "cell_type": "code",
   "execution_count": 17,
   "id": "d3738359",
   "metadata": {},
   "outputs": [
    {
     "name": "stdout",
     "output_type": "stream",
     "text": [
      "Original Array: [4, 1, 7, 3, 7, 2, 9, 5, 2]\n",
      "Second Largest: 7\n",
      "Second Smallest: 2\n"
     ]
    }
   ],
   "source": [
    "#Program9\n",
    "def find_second_largest_and_smallest(arr):\n",
    "    # Convert the list to a set to remove duplicates and then back to a sorted list\n",
    "    unique_sorted_list = sorted(set(arr))\n",
    "    \n",
    "    # Check if there are at least two distinct elements\n",
    "    if len(unique_sorted_list) < 2:\n",
    "        return None, None  # Not enough distinct elements to determine second largest and second smallest\n",
    "    \n",
    "    # Second smallest is the second element in the sorted unique list\n",
    "    second_smallest = unique_sorted_list[1]\n",
    "    \n",
    "    # Second largest is the second-to-last element in the sorted unique list\n",
    "    second_largest = unique_sorted_list[-2]\n",
    "    \n",
    "    return second_largest, second_smallest\n",
    "\n",
    "array = [4, 1, 7, 3, 7, 2, 9, 5, 2]\n",
    "print(\"Original Array:\", array)\n",
    "\n",
    "second_largest, second_smallest = find_second_largest_and_smallest(array)\n",
    "\n",
    "if second_largest is not None and second_smallest is not None:\n",
    "    print(\"Second Largest:\", second_largest)\n",
    "    print(\"Second Smallest:\", second_smallest)\n",
    "else:\n",
    "    print(\"Not enough distinct elements to find second largest and second smallest.\")"
   ]
  },
  {
   "cell_type": "code",
   "execution_count": 20,
   "id": "2541b3c3",
   "metadata": {},
   "outputs": [
    {
     "name": "stdout",
     "output_type": "stream",
     "text": [
      "Enter a number: 15\n",
      "The number is odd.\n"
     ]
    }
   ],
   "source": [
    "#program10\n",
    "num = int(input(\"Enter a number: \"))\n",
    "\n",
    "\n",
    "if num % 2 == 0:\n",
    "    print(\"The number is even.\")\n",
    "\n",
    "\n",
    "if num % 2 != 0:\n",
    "    print(\"The number is odd.\")"
   ]
  },
  {
   "cell_type": "code",
   "execution_count": null,
   "id": "28586d66",
   "metadata": {},
   "outputs": [],
   "source": []
  }
 ],
 "metadata": {
  "kernelspec": {
   "display_name": "Python 3 (ipykernel)",
   "language": "python",
   "name": "python3"
  },
  "language_info": {
   "codemirror_mode": {
    "name": "ipython",
    "version": 3
   },
   "file_extension": ".py",
   "mimetype": "text/x-python",
   "name": "python",
   "nbconvert_exporter": "python",
   "pygments_lexer": "ipython3",
   "version": "3.8.10"
  }
 },
 "nbformat": 4,
 "nbformat_minor": 5
}
