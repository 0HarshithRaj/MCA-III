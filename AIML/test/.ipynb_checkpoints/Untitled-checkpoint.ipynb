{
 "cells": [
  {
   "cell_type": "markdown",
   "id": "dfb3120f",
   "metadata": {},
   "source": [
    "## 1."
   ]
  },
  {
   "cell_type": "code",
   "execution_count": 1,
   "id": "96243c88",
   "metadata": {},
   "outputs": [
    {
     "name": "stdout",
     "output_type": "stream",
     "text": [
      "First element of the list: [1, 2, 3, 4, 5, 6] is: 1\n"
     ]
    }
   ],
   "source": [
    "#Display the first element in the list\n",
    "input_list = [1,2,3,4,5,6]\n",
    "print(f\"First element of the list: {input_list} is: {input_list[0]}\")"
   ]
  },
  {
   "cell_type": "markdown",
   "id": "fb1e0d4d",
   "metadata": {},
   "source": [
    "## 2."
   ]
  },
  {
   "cell_type": "code",
   "execution_count": 23,
   "id": "3b48242f",
   "metadata": {},
   "outputs": [],
   "source": [
    "#Swap the elements of two lists.\n",
    "l1 = [1,2,3,4,5]\n",
    "l2 = [6,7,8,9,10]\n",
    "# for i in range(len(l1)):\n",
    "#     ele1 = l1.pop(i)\n",
    "#     l2.append(ele1)\n",
    "# l1.clear()\n",
    "# for j in range(0,5):\n",
    "#     ele2 = l2.pop(j)\n",
    "#     l1.append(ele2)\n",
    "# for i in range(len(l1)):\n",
    "#     l2[len(l2)+i] = l1[i]\n",
    "l1 = l1 + l2\n",
    "l2 = l2 + l1"
   ]
  },
  {
   "cell_type": "code",
   "execution_count": 24,
   "id": "fc72b16f",
   "metadata": {},
   "outputs": [
    {
     "data": {
      "text/plain": [
       "[1, 2, 3, 4, 5, 6, 7, 8, 9, 10]"
      ]
     },
     "execution_count": 24,
     "metadata": {},
     "output_type": "execute_result"
    }
   ],
   "source": [
    "l1"
   ]
  },
  {
   "cell_type": "code",
   "execution_count": 25,
   "id": "c6b71ae4",
   "metadata": {},
   "outputs": [
    {
     "data": {
      "text/plain": [
       "[6, 7, 8, 9, 10, 1, 2, 3, 4, 5, 6, 7, 8, 9, 10]"
      ]
     },
     "execution_count": 25,
     "metadata": {},
     "output_type": "execute_result"
    }
   ],
   "source": [
    "l2"
   ]
  },
  {
   "cell_type": "code",
   "execution_count": 28,
   "id": "8b691d62",
   "metadata": {},
   "outputs": [],
   "source": [
    "l3 = l1\n",
    "l1.clear()\n"
   ]
  },
  {
   "cell_type": "code",
   "execution_count": 29,
   "id": "d42dae4f",
   "metadata": {},
   "outputs": [
    {
     "data": {
      "text/plain": [
       "[6, 7, 8, 9, 10, 1, 2, 3, 4, 5, 6, 7, 8, 9, 10]"
      ]
     },
     "execution_count": 29,
     "metadata": {},
     "output_type": "execute_result"
    }
   ],
   "source": [
    "l1"
   ]
  },
  {
   "cell_type": "code",
   "execution_count": 30,
   "id": "9a002d40",
   "metadata": {},
   "outputs": [],
   "source": [
    "l1.clear()\n",
    "l2.clear()"
   ]
  },
  {
   "cell_type": "code",
   "execution_count": 31,
   "id": "da286084",
   "metadata": {},
   "outputs": [
    {
     "data": {
      "text/plain": [
       "[]"
      ]
     },
     "execution_count": 31,
     "metadata": {},
     "output_type": "execute_result"
    }
   ],
   "source": [
    "l1"
   ]
  },
  {
   "cell_type": "code",
   "execution_count": 32,
   "id": "d6addc08",
   "metadata": {},
   "outputs": [
    {
     "data": {
      "text/plain": [
       "[]"
      ]
     },
     "execution_count": 32,
     "metadata": {},
     "output_type": "execute_result"
    }
   ],
   "source": [
    "l2"
   ]
  },
  {
   "cell_type": "code",
   "execution_count": 90,
   "id": "0fe0932a",
   "metadata": {},
   "outputs": [],
   "source": [
    "l1 = [1,2,3,4,5]\n",
    "l2 = [6,7,8,9,10]\n",
    "l3,l4 = [],[]\n",
    "l3 = l1\n",
    "l4 = l2\n",
    "# if l1:\n",
    "#     l1.clear()\n",
    "# if l2:\n",
    "#     l2.clear()\n",
    "# l1.clear()\n",
    "# l2.clear()\n",
    "# for i in range(len(l3)):\n",
    "#     l1.append(l4[i])\n",
    "#     l2.append(l3[i])\n",
    "for i in range(5):\n",
    "    l1[i] = l4[i]\n",
    "for i in range(5):\n",
    "    l2[i] = l3[i]"
   ]
  },
  {
   "cell_type": "code",
   "execution_count": 91,
   "id": "0675b6d7",
   "metadata": {},
   "outputs": [
    {
     "name": "stdout",
     "output_type": "stream",
     "text": [
      "l1: [6, 7, 8, 9, 10] and l2: [6, 7, 8, 9, 10]\n"
     ]
    }
   ],
   "source": [
    "print(f\"l1: {l1} and l2: {l2}\")"
   ]
  },
  {
   "cell_type": "code",
   "execution_count": 92,
   "id": "b6c00363",
   "metadata": {},
   "outputs": [
    {
     "data": {
      "text/plain": [
       "[6, 7, 8, 9, 10]"
      ]
     },
     "execution_count": 92,
     "metadata": {},
     "output_type": "execute_result"
    }
   ],
   "source": [
    "l1"
   ]
  },
  {
   "cell_type": "code",
   "execution_count": 89,
   "id": "a4a7d627",
   "metadata": {},
   "outputs": [
    {
     "data": {
      "text/plain": [
       "[6, 7, 8, 9, 10]"
      ]
     },
     "execution_count": 89,
     "metadata": {},
     "output_type": "execute_result"
    }
   ],
   "source": [
    "l2"
   ]
  },
  {
   "cell_type": "code",
   "execution_count": null,
   "id": "ffe9f092",
   "metadata": {},
   "outputs": [],
   "source": []
  },
  {
   "cell_type": "code",
   "execution_count": 73,
   "id": "fe322b23",
   "metadata": {},
   "outputs": [
    {
     "data": {
      "text/plain": [
       "([1, 2, 3, 4, 5, 6, 7, 8, 9, 10], [6, 7, 8, 9, 10, 1, 2, 3, 4, 5])"
      ]
     },
     "execution_count": 73,
     "metadata": {},
     "output_type": "execute_result"
    }
   ],
   "source": [
    "l3,l4"
   ]
  },
  {
   "cell_type": "code",
   "execution_count": 74,
   "id": "25b06280",
   "metadata": {},
   "outputs": [
    {
     "data": {
      "text/plain": [
       "([1, 2, 3, 4, 5, 6, 7, 8, 9, 10], [6, 7, 8, 9, 10, 1, 2, 3, 4, 5])"
      ]
     },
     "execution_count": 74,
     "metadata": {},
     "output_type": "execute_result"
    }
   ],
   "source": [
    "l1,l2"
   ]
  },
  {
   "cell_type": "code",
   "execution_count": 78,
   "id": "a29d1283",
   "metadata": {},
   "outputs": [
    {
     "ename": "SyntaxError",
     "evalue": "invalid syntax (2777749425.py, line 1)",
     "output_type": "error",
     "traceback": [
      "\u001b[0;36m  File \u001b[0;32m\"/tmp/ipykernel_10580/2777749425.py\"\u001b[0;36m, line \u001b[0;32m1\u001b[0m\n\u001b[0;31m    for i in range(:5:):\u001b[0m\n\u001b[0m                   ^\u001b[0m\n\u001b[0;31mSyntaxError\u001b[0m\u001b[0;31m:\u001b[0m invalid syntax\n"
     ]
    }
   ],
   "source": [
    "for i in range(:5:):\n",
    "    l1.pop(i)"
   ]
  },
  {
   "cell_type": "code",
   "execution_count": 76,
   "id": "e1ffdd4a",
   "metadata": {},
   "outputs": [],
   "source": [
    "for j in range(5):\n",
    "    l2.pop(i)"
   ]
  },
  {
   "cell_type": "code",
   "execution_count": 77,
   "id": "e1dbd365",
   "metadata": {},
   "outputs": [
    {
     "data": {
      "text/plain": [
       "[1, 2, 3, 4, 5, 6, 7, 8, 9, 10]"
      ]
     },
     "execution_count": 77,
     "metadata": {},
     "output_type": "execute_result"
    }
   ],
   "source": [
    "l1"
   ]
  },
  {
   "cell_type": "code",
   "execution_count": 71,
   "id": "9d7ef139",
   "metadata": {},
   "outputs": [
    {
     "data": {
      "text/plain": [
       "[6, 7, 8, 9, 5]"
      ]
     },
     "execution_count": 71,
     "metadata": {},
     "output_type": "execute_result"
    }
   ],
   "source": [
    "l2"
   ]
  },
  {
   "cell_type": "code",
   "execution_count": 80,
   "id": "8b617217",
   "metadata": {},
   "outputs": [],
   "source": [
    "l1 = [6,7,8,9,10]"
   ]
  },
  {
   "cell_type": "code",
   "execution_count": 81,
   "id": "50160e36",
   "metadata": {},
   "outputs": [],
   "source": [
    "l2 = [1,2,3,4,5]"
   ]
  },
  {
   "cell_type": "code",
   "execution_count": null,
   "id": "06c8a9ad",
   "metadata": {},
   "outputs": [],
   "source": []
  }
 ],
 "metadata": {
  "kernelspec": {
   "display_name": "Python 3 (ipykernel)",
   "language": "python",
   "name": "python3"
  },
  "language_info": {
   "codemirror_mode": {
    "name": "ipython",
    "version": 3
   },
   "file_extension": ".py",
   "mimetype": "text/x-python",
   "name": "python",
   "nbconvert_exporter": "python",
   "pygments_lexer": "ipython3",
   "version": "3.8.10"
  }
 },
 "nbformat": 4,
 "nbformat_minor": 5
}
