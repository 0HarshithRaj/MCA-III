{
 "cells": [
  {
   "cell_type": "markdown",
   "id": "abfc053e",
   "metadata": {},
   "source": [
    "## 1. "
   ]
  },
  {
   "cell_type": "code",
   "execution_count": 20,
   "id": "6bf5ed1c",
   "metadata": {},
   "outputs": [
    {
     "data": {
      "application/javascript": [
       "IPython.notebook.set_autosave_interval(5000)"
      ]
     },
     "metadata": {},
     "output_type": "display_data"
    },
    {
     "name": "stdout",
     "output_type": "stream",
     "text": [
      "Autosaving every 5 seconds\n"
     ]
    }
   ],
   "source": [
    "%autosave 5"
   ]
  },
  {
   "cell_type": "code",
   "execution_count": 22,
   "id": "96a7398f",
   "metadata": {},
   "outputs": [
    {
     "name": "stdout",
     "output_type": "stream",
     "text": [
      "Enter your name: Harshith Raj\n",
      "H. R.\n"
     ]
    }
   ],
   "source": [
    "name = input(\"Enter your name: \")\n",
    "name_parts = name.split()\n",
    "initials = \"\"\n",
    "for name in name_parts:\n",
    "    initials += name[0]\n",
    "initials_str = '. '.join(initials) + '.'\n",
    "print(initials_str)"
   ]
  },
  {
   "cell_type": "markdown",
   "id": "0dc0f2c4",
   "metadata": {},
   "source": [
    "## 2. "
   ]
  },
  {
   "cell_type": "code",
   "execution_count": 5,
   "id": "49d2100c",
   "metadata": {},
   "outputs": [
    {
     "name": "stdout",
     "output_type": "stream",
     "text": [
      "Enter a string for the password: Harshith12345\n",
      "Entered Password:  Harshith12345\n"
     ]
    }
   ],
   "source": [
    "import re\n",
    "input_str = input(\"Enter a string for the password: \")\n",
    "if len(input_str)<8:\n",
    "    print(\"Password should be atleast 8 characters long!!!\")\n",
    "if not re.search(r'[A-Z]', input_str):\n",
    "    print(\"Password must contain at least one uppercase letter.\")\n",
    "if not re.search(r'[a-z]', input_str):\n",
    "    print(\"Password must contain at least one lowercase letter.\")\n",
    "if not re.search(r'[0-9]', input_str):\n",
    "    print(\"Password must contain at least one uppercase letter.\")\n",
    "print(\"Entered Password: \",input_str)"
   ]
  },
  {
   "cell_type": "markdown",
   "id": "fe7ab5b6",
   "metadata": {},
   "source": [
    "## 3."
   ]
  },
  {
   "cell_type": "code",
   "execution_count": 10,
   "id": "d6e0f018",
   "metadata": {},
   "outputs": [
    {
     "name": "stdout",
     "output_type": "stream",
     "text": [
      "Enter a String: HarshithRaj\n",
      "jarshithRaH\n"
     ]
    }
   ],
   "source": [
    "input_str = input(\"Enter a String: \")\n",
    "first_char = input_str[0]\n",
    "last_char = input_str[len(input_str)-1]\n",
    "modified_str = last_char + input_str[1:len(input_str)-1] + first_char\n",
    "print(modified_str)"
   ]
  },
  {
   "cell_type": "code",
   "execution_count": 11,
   "id": "b5fa964f",
   "metadata": {},
   "outputs": [
    {
     "data": {
      "text/plain": [
       "('H', 'j')"
      ]
     },
     "execution_count": 11,
     "metadata": {},
     "output_type": "execute_result"
    }
   ],
   "source": [
    "first_char, last_char"
   ]
  },
  {
   "cell_type": "markdown",
   "id": "05868bf5",
   "metadata": {},
   "source": [
    "## 4.  "
   ]
  },
  {
   "cell_type": "code",
   "execution_count": 15,
   "id": "7d9fd2d1",
   "metadata": {},
   "outputs": [
    {
     "name": "stdout",
     "output_type": "stream",
     "text": [
      "Enter a string: HarshithRajaeiou\n",
      "Number of Vowels is:  5\n"
     ]
    }
   ],
   "source": [
    "input_str = input(\"Enter a string: \")\n",
    "# vowels = ['a','e','i','o','u','A','E','I','O','U']\n",
    "vowels = set(\"aeiouAEIOU\")\n",
    "count = 0\n",
    "for i in vowels:\n",
    "    if i in input_str:\n",
    "        count += 1\n",
    "print(\"Number of Vowels is: \",count)"
   ]
  },
  {
   "cell_type": "markdown",
   "id": "39b0d370",
   "metadata": {},
   "source": [
    "## 5."
   ]
  },
  {
   "cell_type": "code",
   "execution_count": 18,
   "id": "1c22899d",
   "metadata": {},
   "outputs": [
    {
     "name": "stdout",
     "output_type": "stream",
     "text": [
      "Enter a string: HarshithRaj123\n",
      "Upper case count: 2\n",
      "Lower case count: 9\n",
      "Digits case count: 3\n"
     ]
    }
   ],
   "source": [
    "import re\n",
    "input_str = input(\"Enter a string: \")\n",
    "up_count, low_count, dig_count = 0, 0, 0\n",
    "for i in input_str:\n",
    "    if re.search(r'[A-Z]', i):\n",
    "        up_count += 1\n",
    "    if re.search(r'[a-z]', i):\n",
    "        low_count += 1\n",
    "    if re.search(r'[0-9]', i):\n",
    "        dig_count += 1\n",
    "print(f\"Upper case count: {up_count}\")\n",
    "print(f\"Lower case count: {low_count}\")\n",
    "print(f\"Digits case count: {dig_count}\")"
   ]
  },
  {
   "cell_type": "code",
   "execution_count": null,
   "id": "0add5f36",
   "metadata": {},
   "outputs": [],
   "source": []
  }
 ],
 "metadata": {
  "kernelspec": {
   "display_name": "Python 3 (ipykernel)",
   "language": "python",
   "name": "python3"
  },
  "language_info": {
   "codemirror_mode": {
    "name": "ipython",
    "version": 3
   },
   "file_extension": ".py",
   "mimetype": "text/x-python",
   "name": "python",
   "nbconvert_exporter": "python",
   "pygments_lexer": "ipython3",
   "version": "3.8.10"
  }
 },
 "nbformat": 4,
 "nbformat_minor": 5
}
